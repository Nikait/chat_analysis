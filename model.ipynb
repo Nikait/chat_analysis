{
  "cells": [
    {
      "cell_type": "code",
      "execution_count": null,
      "metadata": {
        "id": "IwK4oaxL_xIz"
      },
      "outputs": [],
      "source": [
        "!chmod 600 /root/.kaggle/kaggle.json\n",
        "!kaggle datasets download -d datasnaek/mbti-type\n",
        "!unzip mbti-type.zip"
      ]
    },
    {
      "cell_type": "code",
      "execution_count": null,
      "metadata": {
        "id": "9CLQ5vfDXuSz"
      },
      "outputs": [],
      "source": [
        "import re\n",
        "import string\n",
        "import collections\n",
        "import pandas as pd\n",
        "import matplotlib.pyplot as plt\n",
        "import numpy as np\n",
        "\n",
        "import torch\n",
        "import torch.nn as nn\n",
        "from torch.utils.data import DataLoader\n",
        "\n",
        "import nltk\n",
        "from nltk.tokenize import word_tokenize\n",
        "from collections import Counter\n",
        "from tqdm.auto import tqdm\n",
        "\n",
        "nltk.download('punkt')\n"
      ]
    },
    {
      "cell_type": "code",
      "execution_count": 62,
      "metadata": {
        "id": "woSu83ctXyh3"
      },
      "outputs": [],
      "source": [
        "data = pd.read_csv(\"mbti_1.csv\")\n",
        "\n",
        "mbti_map = {\n",
        "    \"ISTJ\": 0,\n",
        "    \"ISFJ\": 1,\n",
        "    \"INFJ\": 2,\n",
        "    \"INTJ\": 3,\n",
        "    \"ISTP\": 4,\n",
        "    \"ISFP\": 5,\n",
        "    \"INFP\": 6,\n",
        "    \"INTP\": 7,\n",
        "    \"ESTP\": 8,\n",
        "    \"ESFP\": 9,\n",
        "    \"ENFP\": 10,\n",
        "    \"ENTP\": 11,\n",
        "    \"ESTJ\": 12,\n",
        "    \"ESFJ\": 13,\n",
        "    \"ENFJ\": 14,\n",
        "    \"ENTJ\": 15,\n",
        "}\n",
        "\n",
        "\n",
        "rows_amount = len(data)"
      ]
    },
    {
      "cell_type": "markdown",
      "metadata": {
        "id": "Gx9ZGqErbIIf"
      },
      "source": [
        "visualization"
      ]
    },
    {
      "cell_type": "code",
      "execution_count": 63,
      "metadata": {
        "colab": {
          "base_uri": "https://localhost:8080/",
          "height": 443
        },
        "id": "2YFAkZeUb9LU",
        "outputId": "d0632cf3-12d4-4728-97bc-7b2d1b72a4d5"
      },
      "outputs": [
        {
          "output_type": "display_data",
          "data": {
            "text/plain": [
              "<Figure size 640x480 with 0 Axes>"
            ]
          },
          "metadata": {}
        },
        {
          "output_type": "display_data",
          "data": {
            "text/plain": [
              "<Figure size 640x480 with 1 Axes>"
            ],
            "image/png": "[encoded data removed]"
          },
          "metadata": {}
        }
      ],
      "source": [
        "counts = collections.defaultdict(int)\n",
        "for row in data[\"type\"]:\n",
        "    counts[row] += 1\n",
        "\n",
        "counts = dict(counts)\n",
        "for key, value in counts.items():\n",
        "    counts[key] = [value]\n",
        "\n",
        "\n",
        "plotdata = pd.DataFrame(counts)\n",
        "plt.figure();\n",
        "plotdata.plot.bar();\n"
      ]
    },
    {
      "cell_type": "markdown",
      "metadata": {
        "id": "-SrDGAi1-42g"
      },
      "source": [
        "preprocessing"
      ]
    },
    {
      "cell_type": "code",
      "execution_count": 64,
      "metadata": {
        "id": "t5JjXsfh-8_d"
      },
      "outputs": [],
      "source": [
        "PATH = \"mbti_1.csv\"\n",
        "\n",
        "\n",
        "def reg_handling(content: str) -> str:\n",
        "    \"preprocessing posts\"\n",
        "\n",
        "    content = re.sub(r\"http\\S*\", \" \", content.lower().lstrip(\"'\"))\n",
        "    content = re.sub(r'\\|{3,}', ' N ', content)\n",
        "    content = content.translate(str.maketrans(' ', ' ', string.punctuation))\n",
        "    content = re.sub(r'[^A-z]', ' ', content)\n",
        "\n",
        "    return content\n",
        "\n",
        "\n",
        "def write_post(position: int, mbti_type: str, content: str) -> None:\n",
        "    match position:\n",
        "        case _ if position < int(0.75*rows_amount):\n",
        "            with open(\"train.csv\", \"a\") as train:\n",
        "                train.write(f\"{mbti_type}\\t{content}\\n\")\n",
        "        case _:\n",
        "            with open(\"test.csv\", \"a\") as test:\n",
        "                test.write(f\"{mbti_type}\\t{content}\\n\")\n",
        "\n",
        "\n",
        "for file_ in [\"train.csv\", \"test.csv\"]:\n",
        "    with open(file_, \"w\") as f:\n",
        "        f.write(\"type\\tcontent\\n\")\n",
        "\n",
        "\n",
        "with open(PATH) as f:\n",
        "    csv_data = csv.reader(f)\n",
        "    posts = next(csv_data) # skipping row \"posts\"\n",
        "    for i, (mbti_type, content) in enumerate(csv_data):\n",
        "        preprocessed = reg_handling(content)\n",
        "        segments = preprocessed.split(\" N \")\n",
        "        chunks = [segments[i:i+len(segments)//4] for i in range(0, len(segments), len(segments)//4 + 1)]\n",
        "        new_strings = [' '.join(chunk) for chunk in chunks]\n",
        "        [write_post(i, mbti_type, new_string) for new_string in new_strings]"
      ]
    },
    {
      "cell_type": "markdown",
      "metadata": {
        "id": "uzCujArhXvOV"
      },
      "source": [
        "vocabulary"
      ]
    },
    {
      "cell_type": "code",
      "execution_count": 65,
      "metadata": {
        "id": "WYA10yMhUjOz"
      },
      "outputs": [],
      "source": [
        "device = torch.device(\"cuda:0\" if torch.cuda.is_available() else \"cpu\")\n",
        "\n",
        "train = pd.read_csv(\"train.csv\", sep=\"\\t\")\n",
        "test = pd.read_csv(\"test.csv\", sep=\"\\t\")\n",
        "\n",
        "dataset = {\"train\": train, \"test\" : test}\n",
        "\n",
        "words = Counter()\n",
        "\n",
        "for example in dataset['train']['content']:\n",
        "    for word in word_tokenize(str(example)):\n",
        "        words[word] += 1\n",
        "\n",
        "\n",
        "vocab = set(['<unk>', '<bos>', '<eos>', '<pad>'])\n",
        "counter_threshold = 20\n",
        "\n",
        "for char, cnt in words.items():\n",
        "    if cnt > counter_threshold:\n",
        "        vocab.add(char)\n",
        "\n",
        "\n",
        "word2ind = {char: i for i, char in enumerate(vocab)}\n",
        "ind2word = {i: char for char, i in word2ind.items()}"
      ]
    },
    {
      "cell_type": "code",
      "execution_count": 167,
      "metadata": {
        "id": "_zfYV--8Nsg9"
      },
      "outputs": [],
      "source": [
        "def evaluate_accurcy(model, eval_dataloader) -> float:\n",
        "    predictions = []\n",
        "    target = []\n",
        "    with torch.no_grad():\n",
        "        for batch in eval_dataloader:\n",
        "            logits = model(batch['input_ids'])\n",
        "            predictions.append(logits.argmax(dim=1))\n",
        "            target.append(batch['label'])\n",
        "\n",
        "    predictions = torch.cat(predictions)\n",
        "    target = torch.cat(target)\n",
        "    accuracy = (predictions == target).float().mean().item()\n",
        "\n",
        "    return accuracy\n",
        "\n",
        "\n",
        "def top_5_accurcy(model, eval_dataloader):\n",
        "    predictions, target, means = [], [], []\n",
        "    with torch.no_grad():\n",
        "        for batch in eval_dataloader:\n",
        "            logits = model(batch['input_ids'])\n",
        "            predictions.append(torch.topk(logits, 5, dim=1))\n",
        "            target.append(batch['label'])\n",
        "\n",
        "    for (val, ind), real in zip(predictions, target):\n",
        "        result = [truth in top5 for top5, truth in zip(ind, real)]\n",
        "        means.append(result.count(True)/len(result))\n",
        "\n",
        "    return means\n",
        "\n",
        "\n",
        "class WordDataset:\n",
        "    def __init__(self, sentences):\n",
        "        self.data = sentences\n",
        "        self.unk_id = word2ind['<unk>']\n",
        "        self.bos_id = word2ind['<bos>']\n",
        "        self.eos_id = word2ind['<eos>']\n",
        "        self.pad_id = word2ind['<pad>']\n",
        "\n",
        "    def __getitem__(self, idx: int) -> list[int]:\n",
        "        processed_text = self.data['content'][idx]\n",
        "        tokenized_sentence = [self.bos_id]\n",
        "        tokenized_sentence += [\n",
        "            word2ind.get(word, self.unk_id) for word in word_tokenize(str(processed_text))\n",
        "        ]\n",
        "        tokenized_sentence += [self.eos_id]\n",
        "\n",
        "        train_sample = {\n",
        "            \"text\": tokenized_sentence,\n",
        "            \"label\": self.data['type'][idx]\n",
        "        }\n",
        "\n",
        "        return train_sample\n",
        "\n",
        "    def __len__(self) -> int:\n",
        "        return len(self.data)\n",
        "\n",
        "\n",
        "def collate_fn_with_padding(\n",
        "    input_batch: list[list[int]], pad_id=word2ind['<pad>'], max_len=1024) -> torch.Tensor:\n",
        "    seq_lens = [len(x['text']) for x in input_batch]\n",
        "    max_seq_len = min(max(seq_lens), max_len)\n",
        "\n",
        "    new_batch = []\n",
        "    for sequence in input_batch:\n",
        "        sequence['text'] = sequence['text'][:max_seq_len]\n",
        "        for _ in range(max_seq_len - len(sequence['text'])):\n",
        "            sequence['text'].append(pad_id)\n",
        "\n",
        "        new_batch.append(sequence['text'])\n",
        "\n",
        "    sequences = torch.LongTensor(new_batch).to(device)\n",
        "    labels = torch.LongTensor([mbti_map[ x['label'] ] for x in input_batch]).to(device)\n",
        "\n",
        "    new_batch = {\n",
        "        'input_ids': sequences,\n",
        "        'label': labels\n",
        "    }\n",
        "\n",
        "    return new_batch\n",
        "\n",
        "\n"
      ]
    },
    {
      "cell_type": "code",
      "execution_count": 67,
      "metadata": {
        "id": "q7sWHyPPBuJF"
      },
      "outputs": [],
      "source": [
        "train_dataset = WordDataset(dataset['train'])\n",
        "test_dataset = WordDataset(dataset['test'])\n",
        "\n",
        "batch_size = 128\n",
        "train_dataloader = DataLoader(\n",
        "    train_dataset, shuffle=True,\n",
        "    collate_fn=collate_fn_with_padding,\n",
        "    batch_size=batch_size)\n",
        "\n",
        "eval_dataloader = DataLoader(\n",
        "    test_dataset, shuffle=False,\n",
        "    collate_fn=collate_fn_with_padding,\n",
        "    batch_size=batch_size)\n"
      ]
    },
    {
      "cell_type": "code",
      "execution_count": 105,
      "metadata": {
        "id": "U8fSAIqOw2YJ"
      },
      "outputs": [],
      "source": [
        "class Model(nn.Module):\n",
        "    def __init__(self, hidden_dim, vocab_size, num_classes, bidirectional, num_layers, dropout_rate):\n",
        "        super().__init__()\n",
        "        self.embedding = nn.Embedding(vocab_size, hidden_dim)\n",
        "        self.rnn = nn.LSTM(hidden_dim, hidden_dim, batch_first=True, bidirectional=bidirectional, num_layers=num_layers)\n",
        "        self.linear = nn.Linear(hidden_dim, hidden_dim)\n",
        "        self.projection = nn.Linear(hidden_dim, num_classes)\n",
        "\n",
        "        self.non_linear = nn.Tanh()\n",
        "        self.dropout = nn.Dropout(p=dropout_rate)\n",
        "\n",
        "\n",
        "    def forward(self, input_batch):\n",
        "        embeddings = self.embedding(input_batch)\n",
        "        output, _ = self.rnn(embeddings)\n",
        "        output = output.max(dim=1)[0]\n",
        "        output = self.dropout(self.non_linear(self.linear(output)))\n",
        "        prediction = self.projection(self.non_linear(output))\n",
        "\n",
        "        return prediction"
      ]
    },
    {
      "cell_type": "code",
      "execution_count": 119,
      "metadata": {
        "colab": {
          "base_uri": "https://localhost:8080/",
          "height": 117,
          "referenced_widgets": [
            "ffad77a80bae49079f2653dd3eebcc01",
            "d5188d22ddaa4e9f948d621f4a39c47b",
            "a2f3e780d2d5411ea351a6f63977d5e6",
            "059cba55d2ed485983afdb829325fa73",
            "3198bbe950164372853cb3b4e0b65b3e",
            "1513c98cbff94ad599b42d0572720816",
            "6c45a11cb82645ad800ecdd9066c141d",
            "2bd626ed817244e6ba9acfd9c3f1186d",
            "dbfd130254e44c1592b1aa21cb31d9b5",
            "c6e8d247c94a4f9aa2585795b52ceb36",
            "c0400e0b47f84c64ab1eda0bc3ebb5e0",
            "8cd73d78a84449459e1ac4cf692cee5d",
            "a4a19ac5b450436b99fa2648a8585756",
            "ee5413811ed84da88d71515f237f51ee",
            "49b666aeccda4804a924b4bae04d4b0b",
            "2f1b9697b9144123a77c3c5885a24b6f",
            "e131ddc52ec64dbb9dd1f9c5498f1cb7",
            "2dc47241ee3b448b8a9945b77aefe2fe",
            "26ae9441a42242d0afa365dc59b8c27a",
            "44e8aa2ae01046bda0b799c0d2e3c8ab",
            "1d3cab4775944ee0a547379ec033a3b0",
            "d81439e2ce4c470fa5a7831ff4e6f559"
          ]
        },
        "id": "4HogWKlGB1xo",
        "outputId": "f47dff79-8996-46be-8424-53990f8586bd"
      },
      "outputs": [
        {
          "data": {
            "application/vnd.jupyter.widget-view+json": {
              "model_id": "ffad77a80bae49079f2653dd3eebcc01",
              "version_major": 2,
              "version_minor": 0
            },
            "text/plain": [
              "Training epoch 1:   0%|          | 0/204 [00:00<?, ?it/s]"
            ]
          },
          "metadata": {},
          "output_type": "display_data"
        },
        {
          "output_type": "stream",
          "name": "stdout",
          "text": [
            "loss: 2.106058806180954 accuracy: 0.43127307295799255\n"
          ]
        },
        {
          "output_type": "display_data",
          "data": {
            "text/plain": [
              "Training epoch 2:   0%|          | 0/204 [00:00<?, ?it/s]"
            ],
            "application/vnd.jupyter.widget-view+json": {
              "version_major": 2,
              "version_minor": 0,
              "model_id": "8cd73d78a84449459e1ac4cf692cee5d"
            }
          },
          "metadata": {}
        },
        {
          "output_type": "stream",
          "name": "stdout",
          "text": [
            "loss: 1.7455903712440939 accuracy: 0.4629843235015869\n"
          ]
        }
      ],
      "source": [
        "num_epochs = 2\n",
        "losses, acc = [100], [0]\n",
        "\n",
        "model = Model(hidden_dim=315, vocab_size=len(vocab), num_classes=16,\n",
        "              bidirectional=False, num_layers=2, dropout_rate=0.2).to(device)\n",
        "\n",
        "#model.load_state_dict(torch.load(\"common_1.pt\"))\n",
        "\n",
        "criterion = nn.CrossEntropyLoss(ignore_index=word2ind['<pad>'])\n",
        "optimizer = torch.optim.Adam(model.parameters())\n",
        "\n",
        "\n",
        "for epoch in range(num_epochs):\n",
        "    losses_per_epoch = []\n",
        "    model.train()\n",
        "\n",
        "    for i, batch in enumerate(tqdm(train_dataloader, desc=f'Training epoch {epoch+1}: ')):\n",
        "        optimizer.zero_grad()\n",
        "        logits = model(batch['input_ids'])\n",
        "        loss = criterion(logits, batch['label'])\n",
        "        loss.backward()\n",
        "        optimizer.step()\n",
        "        losses_per_epoch.append(loss.item())\n",
        "\n",
        "    model.eval()\n",
        "    epoch_acc = evaluate_accurcy(model, eval_dataloader)\n",
        "\n",
        "    torch.save(model, f\"model_{epoch+1}.pt\")\n",
        "\n",
        "    losses.append(sum(losses_per_epoch) / len(losses_per_epoch))\n",
        "    acc.append(epoch_acc)\n",
        "\n",
        "    print(f\"loss: {losses[-1]} accuracy: {acc[-1]}\")\n",
        "\n"
      ]
    },
    {
      "cell_type": "markdown",
      "source": [
        "results: accurcy / top-5 accurcy"
      ],
      "metadata": {
        "id": "WiffT81tB6-6"
      }
    },
    {
      "cell_type": "code",
      "source": [
        "model.eval()\n",
        "predictions, target, means = [], [], []\n",
        "with torch.no_grad():\n",
        "    for batch in eval_dataloader:\n",
        "        logits = model(batch['input_ids'])\n",
        "        predictions.append(torch.topk(logits, 5, dim=1))\n",
        "        target.append(batch['label'])\n"
      ],
      "metadata": {
        "id": "riH-WXV7ZgLr"
      },
      "execution_count": 170,
      "outputs": []
    },
    {
      "cell_type": "code",
      "source": [
        "for (val, ind), real in zip(predictions, target):\n",
        "    result = [truth in top5 for top5, truth in zip(ind, real)]\n",
        "    print(result)\n",
        "    means.append(result.count(True)/len(result))"
      ],
      "metadata": {
        "id": "LNjGFd4Jjgov"
      },
      "execution_count": null,
      "outputs": []
    },
    {
      "cell_type": "code",
      "source": [
        "sum(means)/len(means)"
      ],
      "metadata": {
        "colab": {
          "base_uri": "https://localhost:8080/"
        },
        "id": "6GcyYvbrkXuq",
        "outputId": "d6ed5896-dee3-445a-d9ce-54fdb2a1c4c0"
      },
      "execution_count": 173,
      "outputs": [
        {
          "output_type": "execute_result",
          "data": {
            "text/plain": [
              "0.8149892769607844"
            ]
          },
          "metadata": {},
          "execution_count": 173
        }
      ]
    },
    {
      "cell_type": "code",
      "source": [
        "print(top_5_accurcy)"
      ],
      "metadata": {
        "colab": {
          "base_uri": "https://localhost:8080/"
        },
        "id": "GfuLZm47axf8",
        "outputId": "cb0f5360-b8f7-41dd-8034-ddd90cc10b35"
      },
      "execution_count": 169,
      "outputs": [
        {
          "output_type": "stream",
          "name": "stdout",
          "text": [
            "<function top_5_accurcy at 0x7e26241c9ea0>\n"
          ]
        }
      ]
    },
    {
      "cell_type": "markdown",
      "source": [
        "one sample prediction"
      ],
      "metadata": {
        "id": "-vQj7dBUbCRz"
      }
    },
    {
      "cell_type": "code",
      "source": [
        "data = dataset[\"test\"].head(1) # for test\n",
        "data[\"content\"][0] = reg_handling(\"hello my name is john I think in strictly way. I am a human by the way\").replace(\"N\", \" \")\n",
        "\n",
        "loader = DataLoader(\n",
        "    test, shuffle=True,\n",
        "    collate_fn=collate_fn_with_padding,\n",
        "    batch_size=1)\n",
        "\n",
        "model.eval()\n",
        "batch = next(iter(loader))\n",
        "logits = model(batch['input_ids']).argmax(dim=1)\n",
        "res = int(logits.numpy())\n",
        "\n",
        "key_list = list(mbti_map.keys())\n",
        "val_list = list(mbti_map.values())\n",
        "position = val_list.index(res)\n",
        "print(key_list[position])"
      ],
      "metadata": {
        "colab": {
          "base_uri": "https://localhost:8080/"
        },
        "id": "DtxcsBa151S8",
        "outputId": "bcb90870-75a2-4115-f581-bc314331727e"
      },
      "execution_count": 181,
      "outputs": [
        {
          "output_type": "stream",
          "name": "stdout",
          "text": [
            "INTP\n"
          ]
        },
        {
          "output_type": "stream",
          "name": "stderr",
          "text": [
            "<ipython-input-181-42e6d711e7ce>:2: SettingWithCopyWarning: \n",
            "A value is trying to be set on a copy of a slice from a DataFrame\n",
            "\n",
            "See the caveats in the documentation: https://pandas.pydata.org/pandas-docs/stable/user_guide/indexing.html#returning-a-view-versus-a-copy\n",
            "  data[\"content\"][0] = reg_handling(\"hello my name is john I think in strictly way. I am a human by the way\").replace(\"N\", \" \")\n"
          ]
        }
      ]
    }
  ],
  "metadata": {
    "colab": {
      "provenance": []
    },
    "kernelspec": {
      "display_name": "Python 3",
      "name": "python3"
    },
    "language_info": {
      "name": "python"
    },
    "widgets": {
      "application/vnd.jupyter.widget-state+json": {
        "ffad77a80bae49079f2653dd3eebcc01": {
          "model_module": "@jupyter-widgets/controls",
          "model_name": "HBoxModel",
          "model_module_version": "1.5.0",
          "state": {
            "_dom_classes": [],
            "_model_module": "@jupyter-widgets/controls",
            "_model_module_version": "1.5.0",
            "_model_name": "HBoxModel",
            "_view_count": null,
            "_view_module": "@jupyter-widgets/controls",
            "_view_module_version": "1.5.0",
            "_view_name": "HBoxView",
            "box_style": "",
            "children": [
              "IPY_MODEL_d5188d22ddaa4e9f948d621f4a39c47b",
              "IPY_MODEL_a2f3e780d2d5411ea351a6f63977d5e6",
              "IPY_MODEL_059cba55d2ed485983afdb829325fa73"
            ],
            "layout": "IPY_MODEL_3198bbe950164372853cb3b4e0b65b3e"
          }
        },
        "d5188d22ddaa4e9f948d621f4a39c47b": {
          "model_module": "@jupyter-widgets/controls",
          "model_name": "HTMLModel",
          "model_module_version": "1.5.0",
          "state": {
            "_dom_classes": [],
            "_model_module": "@jupyter-widgets/controls",
            "_model_module_version": "1.5.0",
            "_model_name": "HTMLModel",
            "_view_count": null,
            "_view_module": "@jupyter-widgets/controls",
            "_view_module_version": "1.5.0",
            "_view_name": "HTMLView",
            "description": "",
            "description_tooltip": null,
            "layout": "IPY_MODEL_1513c98cbff94ad599b42d0572720816",
            "placeholder": "​",
            "style": "IPY_MODEL_6c45a11cb82645ad800ecdd9066c141d",
            "value": "Training epoch 1: 100%"
          }
        },
        "a2f3e780d2d5411ea351a6f63977d5e6": {
          "model_module": "@jupyter-widgets/controls",
          "model_name": "FloatProgressModel",
          "model_module_version": "1.5.0",
          "state": {
            "_dom_classes": [],
            "_model_module": "@jupyter-widgets/controls",
            "_model_module_version": "1.5.0",
            "_model_name": "FloatProgressModel",
            "_view_count": null,
            "_view_module": "@jupyter-widgets/controls",
            "_view_module_version": "1.5.0",
            "_view_name": "ProgressView",
            "bar_style": "success",
            "description": "",
            "description_tooltip": null,
            "layout": "IPY_MODEL_2bd626ed817244e6ba9acfd9c3f1186d",
            "max": 204,
            "min": 0,
            "orientation": "horizontal",
            "style": "IPY_MODEL_dbfd130254e44c1592b1aa21cb31d9b5",
            "value": 204
          }
        },
        "059cba55d2ed485983afdb829325fa73": {
          "model_module": "@jupyter-widgets/controls",
          "model_name": "HTMLModel",
          "model_module_version": "1.5.0",
          "state": {
            "_dom_classes": [],
            "_model_module": "@jupyter-widgets/controls",
            "_model_module_version": "1.5.0",
            "_model_name": "HTMLModel",
            "_view_count": null,
            "_view_module": "@jupyter-widgets/controls",
            "_view_module_version": "1.5.0",
            "_view_name": "HTMLView",
            "description": "",
            "description_tooltip": null,
            "layout": "IPY_MODEL_c6e8d247c94a4f9aa2585795b52ceb36",
            "placeholder": "​",
            "style": "IPY_MODEL_c0400e0b47f84c64ab1eda0bc3ebb5e0",
            "value": " 204/204 [27:26&lt;00:00,  5.82s/it]"
          }
        },
        "3198bbe950164372853cb3b4e0b65b3e": {
          "model_module": "@jupyter-widgets/base",
          "model_name": "LayoutModel",
          "model_module_version": "1.2.0",
          "state": {
            "_model_module": "@jupyter-widgets/base",
            "_model_module_version": "1.2.0",
            "_model_name": "LayoutModel",
            "_view_count": null,
            "_view_module": "@jupyter-widgets/base",
            "_view_module_version": "1.2.0",
            "_view_name": "LayoutView",
            "align_content": null,
            "align_items": null,
            "align_self": null,
            "border": null,
            "bottom": null,
            "display": null,
            "flex": null,
            "flex_flow": null,
            "grid_area": null,
            "grid_auto_columns": null,
            "grid_auto_flow": null,
            "grid_auto_rows": null,
            "grid_column": null,
            "grid_gap": null,
            "grid_row": null,
            "grid_template_areas": null,
            "grid_template_columns": null,
            "grid_template_rows": null,
            "height": null,
            "justify_content": null,
            "justify_items": null,
            "left": null,
            "margin": null,
            "max_height": null,
            "max_width": null,
            "min_height": null,
            "min_width": null,
            "object_fit": null,
            "object_position": null,
            "order": null,
            "overflow": null,
            "overflow_x": null,
            "overflow_y": null,
            "padding": null,
            "right": null,
            "top": null,
            "visibility": null,
            "width": null
          }
        },
        "1513c98cbff94ad599b42d0572720816": {
          "model_module": "@jupyter-widgets/base",
          "model_name": "LayoutModel",
          "model_module_version": "1.2.0",
          "state": {
            "_model_module": "@jupyter-widgets/base",
            "_model_module_version": "1.2.0",
            "_model_name": "LayoutModel",
            "_view_count": null,
            "_view_module": "@jupyter-widgets/base",
            "_view_module_version": "1.2.0",
            "_view_name": "LayoutView",
            "align_content": null,
            "align_items": null,
            "align_self": null,
            "border": null,
            "bottom": null,
            "display": null,
            "flex": null,
            "flex_flow": null,
            "grid_area": null,
            "grid_auto_columns": null,
            "grid_auto_flow": null,
            "grid_auto_rows": null,
            "grid_column": null,
            "grid_gap": null,
            "grid_row": null,
            "grid_template_areas": null,
            "grid_template_columns": null,
            "grid_template_rows": null,
            "height": null,
            "justify_content": null,
            "justify_items": null,
            "left": null,
            "margin": null,
            "max_height": null,
            "max_width": null,
            "min_height": null,
            "min_width": null,
            "object_fit": null,
            "object_position": null,
            "order": null,
            "overflow": null,
            "overflow_x": null,
            "overflow_y": null,
            "padding": null,
            "right": null,
            "top": null,
            "visibility": null,
            "width": null
          }
        },
        "6c45a11cb82645ad800ecdd9066c141d": {
          "model_module": "@jupyter-widgets/controls",
          "model_name": "DescriptionStyleModel",
          "model_module_version": "1.5.0",
          "state": {
            "_model_module": "@jupyter-widgets/controls",
            "_model_module_version": "1.5.0",
            "_model_name": "DescriptionStyleModel",
            "_view_count": null,
            "_view_module": "@jupyter-widgets/base",
            "_view_module_version": "1.2.0",
            "_view_name": "StyleView",
            "description_width": ""
          }
        },
        "2bd626ed817244e6ba9acfd9c3f1186d": {
          "model_module": "@jupyter-widgets/base",
          "model_name": "LayoutModel",
          "model_module_version": "1.2.0",
          "state": {
            "_model_module": "@jupyter-widgets/base",
            "_model_module_version": "1.2.0",
            "_model_name": "LayoutModel",
            "_view_count": null,
            "_view_module": "@jupyter-widgets/base",
            "_view_module_version": "1.2.0",
            "_view_name": "LayoutView",
            "align_content": null,
            "align_items": null,
            "align_self": null,
            "border": null,
            "bottom": null,
            "display": null,
            "flex": null,
            "flex_flow": null,
            "grid_area": null,
            "grid_auto_columns": null,
            "grid_auto_flow": null,
            "grid_auto_rows": null,
            "grid_column": null,
            "grid_gap": null,
            "grid_row": null,
            "grid_template_areas": null,
            "grid_template_columns": null,
            "grid_template_rows": null,
            "height": null,
            "justify_content": null,
            "justify_items": null,
            "left": null,
            "margin": null,
            "max_height": null,
            "max_width": null,
            "min_height": null,
            "min_width": null,
            "object_fit": null,
            "object_position": null,
            "order": null,
            "overflow": null,
            "overflow_x": null,
            "overflow_y": null,
            "padding": null,
            "right": null,
            "top": null,
            "visibility": null,
            "width": null
          }
        },
        "dbfd130254e44c1592b1aa21cb31d9b5": {
          "model_module": "@jupyter-widgets/controls",
          "model_name": "ProgressStyleModel",
          "model_module_version": "1.5.0",
          "state": {
            "_model_module": "@jupyter-widgets/controls",
            "_model_module_version": "1.5.0",
            "_model_name": "ProgressStyleModel",
            "_view_count": null,
            "_view_module": "@jupyter-widgets/base",
            "_view_module_version": "1.2.0",
            "_view_name": "StyleView",
            "bar_color": null,
            "description_width": ""
          }
        },
        "c6e8d247c94a4f9aa2585795b52ceb36": {
          "model_module": "@jupyter-widgets/base",
          "model_name": "LayoutModel",
          "model_module_version": "1.2.0",
          "state": {
            "_model_module": "@jupyter-widgets/base",
            "_model_module_version": "1.2.0",
            "_model_name": "LayoutModel",
            "_view_count": null,
            "_view_module": "@jupyter-widgets/base",
            "_view_module_version": "1.2.0",
            "_view_name": "LayoutView",
            "align_content": null,
            "align_items": null,
            "align_self": null,
            "border": null,
            "bottom": null,
            "display": null,
            "flex": null,
            "flex_flow": null,
            "grid_area": null,
            "grid_auto_columns": null,
            "grid_auto_flow": null,
            "grid_auto_rows": null,
            "grid_column": null,
            "grid_gap": null,
            "grid_row": null,
            "grid_template_areas": null,
            "grid_template_columns": null,
            "grid_template_rows": null,
            "height": null,
            "justify_content": null,
            "justify_items": null,
            "left": null,
            "margin": null,
            "max_height": null,
            "max_width": null,
            "min_height": null,
            "min_width": null,
            "object_fit": null,
            "object_position": null,
            "order": null,
            "overflow": null,
            "overflow_x": null,
            "overflow_y": null,
            "padding": null,
            "right": null,
            "top": null,
            "visibility": null,
            "width": null
          }
        },
        "c0400e0b47f84c64ab1eda0bc3ebb5e0": {
          "model_module": "@jupyter-widgets/controls",
          "model_name": "DescriptionStyleModel",
          "model_module_version": "1.5.0",
          "state": {
            "_model_module": "@jupyter-widgets/controls",
            "_model_module_version": "1.5.0",
            "_model_name": "DescriptionStyleModel",
            "_view_count": null,
            "_view_module": "@jupyter-widgets/base",
            "_view_module_version": "1.2.0",
            "_view_name": "StyleView",
            "description_width": ""
          }
        },
        "8cd73d78a84449459e1ac4cf692cee5d": {
          "model_module": "@jupyter-widgets/controls",
          "model_name": "HBoxModel",
          "model_module_version": "1.5.0",
          "state": {
            "_dom_classes": [],
            "_model_module": "@jupyter-widgets/controls",
            "_model_module_version": "1.5.0",
            "_model_name": "HBoxModel",
            "_view_count": null,
            "_view_module": "@jupyter-widgets/controls",
            "_view_module_version": "1.5.0",
            "_view_name": "HBoxView",
            "box_style": "",
            "children": [
              "IPY_MODEL_a4a19ac5b450436b99fa2648a8585756",
              "IPY_MODEL_ee5413811ed84da88d71515f237f51ee",
              "IPY_MODEL_49b666aeccda4804a924b4bae04d4b0b"
            ],
            "layout": "IPY_MODEL_2f1b9697b9144123a77c3c5885a24b6f"
          }
        },
        "a4a19ac5b450436b99fa2648a8585756": {
          "model_module": "@jupyter-widgets/controls",
          "model_name": "HTMLModel",
          "model_module_version": "1.5.0",
          "state": {
            "_dom_classes": [],
            "_model_module": "@jupyter-widgets/controls",
            "_model_module_version": "1.5.0",
            "_model_name": "HTMLModel",
            "_view_count": null,
            "_view_module": "@jupyter-widgets/controls",
            "_view_module_version": "1.5.0",
            "_view_name": "HTMLView",
            "description": "",
            "description_tooltip": null,
            "layout": "IPY_MODEL_e131ddc52ec64dbb9dd1f9c5498f1cb7",
            "placeholder": "​",
            "style": "IPY_MODEL_2dc47241ee3b448b8a9945b77aefe2fe",
            "value": "Training epoch 2: 100%"
          }
        },
        "ee5413811ed84da88d71515f237f51ee": {
          "model_module": "@jupyter-widgets/controls",
          "model_name": "FloatProgressModel",
          "model_module_version": "1.5.0",
          "state": {
            "_dom_classes": [],
            "_model_module": "@jupyter-widgets/controls",
            "_model_module_version": "1.5.0",
            "_model_name": "FloatProgressModel",
            "_view_count": null,
            "_view_module": "@jupyter-widgets/controls",
            "_view_module_version": "1.5.0",
            "_view_name": "ProgressView",
            "bar_style": "success",
            "description": "",
            "description_tooltip": null,
            "layout": "IPY_MODEL_26ae9441a42242d0afa365dc59b8c27a",
            "max": 204,
            "min": 0,
            "orientation": "horizontal",
            "style": "IPY_MODEL_44e8aa2ae01046bda0b799c0d2e3c8ab",
            "value": 204
          }
        },
        "49b666aeccda4804a924b4bae04d4b0b": {
          "model_module": "@jupyter-widgets/controls",
          "model_name": "HTMLModel",
          "model_module_version": "1.5.0",
          "state": {
            "_dom_classes": [],
            "_model_module": "@jupyter-widgets/controls",
            "_model_module_version": "1.5.0",
            "_model_name": "HTMLModel",
            "_view_count": null,
            "_view_module": "@jupyter-widgets/controls",
            "_view_module_version": "1.5.0",
            "_view_name": "HTMLView",
            "description": "",
            "description_tooltip": null,
            "layout": "IPY_MODEL_1d3cab4775944ee0a547379ec033a3b0",
            "placeholder": "​",
            "style": "IPY_MODEL_d81439e2ce4c470fa5a7831ff4e6f559",
            "value": " 204/204 [27:37&lt;00:00,  5.83s/it]"
          }
        },
        "2f1b9697b9144123a77c3c5885a24b6f": {
          "model_module": "@jupyter-widgets/base",
          "model_name": "LayoutModel",
          "model_module_version": "1.2.0",
          "state": {
            "_model_module": "@jupyter-widgets/base",
            "_model_module_version": "1.2.0",
            "_model_name": "LayoutModel",
            "_view_count": null,
            "_view_module": "@jupyter-widgets/base",
            "_view_module_version": "1.2.0",
            "_view_name": "LayoutView",
            "align_content": null,
            "align_items": null,
            "align_self": null,
            "border": null,
            "bottom": null,
            "display": null,
            "flex": null,
            "flex_flow": null,
            "grid_area": null,
            "grid_auto_columns": null,
            "grid_auto_flow": null,
            "grid_auto_rows": null,
            "grid_column": null,
            "grid_gap": null,
            "grid_row": null,
            "grid_template_areas": null,
            "grid_template_columns": null,
            "grid_template_rows": null,
            "height": null,
            "justify_content": null,
            "justify_items": null,
            "left": null,
            "margin": null,
            "max_height": null,
            "max_width": null,
            "min_height": null,
            "min_width": null,
            "object_fit": null,
            "object_position": null,
            "order": null,
            "overflow": null,
            "overflow_x": null,
            "overflow_y": null,
            "padding": null,
            "right": null,
            "top": null,
            "visibility": null,
            "width": null
          }
        },
        "e131ddc52ec64dbb9dd1f9c5498f1cb7": {
          "model_module": "@jupyter-widgets/base",
          "model_name": "LayoutModel",
          "model_module_version": "1.2.0",
          "state": {
            "_model_module": "@jupyter-widgets/base",
            "_model_module_version": "1.2.0",
            "_model_name": "LayoutModel",
            "_view_count": null,
            "_view_module": "@jupyter-widgets/base",
            "_view_module_version": "1.2.0",
            "_view_name": "LayoutView",
            "align_content": null,
            "align_items": null,
            "align_self": null,
            "border": null,
            "bottom": null,
            "display": null,
            "flex": null,
            "flex_flow": null,
            "grid_area": null,
            "grid_auto_columns": null,
            "grid_auto_flow": null,
            "grid_auto_rows": null,
            "grid_column": null,
            "grid_gap": null,
            "grid_row": null,
            "grid_template_areas": null,
            "grid_template_columns": null,
            "grid_template_rows": null,
            "height": null,
            "justify_content": null,
            "justify_items": null,
            "left": null,
            "margin": null,
            "max_height": null,
            "max_width": null,
            "min_height": null,
            "min_width": null,
            "object_fit": null,
            "object_position": null,
            "order": null,
            "overflow": null,
            "overflow_x": null,
            "overflow_y": null,
            "padding": null,
            "right": null,
            "top": null,
            "visibility": null,
            "width": null
          }
        },
        "2dc47241ee3b448b8a9945b77aefe2fe": {
          "model_module": "@jupyter-widgets/controls",
          "model_name": "DescriptionStyleModel",
          "model_module_version": "1.5.0",
          "state": {
            "_model_module": "@jupyter-widgets/controls",
            "_model_module_version": "1.5.0",
            "_model_name": "DescriptionStyleModel",
            "_view_count": null,
            "_view_module": "@jupyter-widgets/base",
            "_view_module_version": "1.2.0",
            "_view_name": "StyleView",
            "description_width": ""
          }
        },
        "26ae9441a42242d0afa365dc59b8c27a": {
          "model_module": "@jupyter-widgets/base",
          "model_name": "LayoutModel",
          "model_module_version": "1.2.0",
          "state": {
            "_model_module": "@jupyter-widgets/base",
            "_model_module_version": "1.2.0",
            "_model_name": "LayoutModel",
            "_view_count": null,
            "_view_module": "@jupyter-widgets/base",
            "_view_module_version": "1.2.0",
            "_view_name": "LayoutView",
            "align_content": null,
            "align_items": null,
            "align_self": null,
            "border": null,
            "bottom": null,
            "display": null,
            "flex": null,
            "flex_flow": null,
            "grid_area": null,
            "grid_auto_columns": null,
            "grid_auto_flow": null,
            "grid_auto_rows": null,
            "grid_column": null,
            "grid_gap": null,
            "grid_row": null,
            "grid_template_areas": null,
            "grid_template_columns": null,
            "grid_template_rows": null,
            "height": null,
            "justify_content": null,
            "justify_items": null,
            "left": null,
            "margin": null,
            "max_height": null,
            "max_width": null,
            "min_height": null,
            "min_width": null,
            "object_fit": null,
            "object_position": null,
            "order": null,
            "overflow": null,
            "overflow_x": null,
            "overflow_y": null,
            "padding": null,
            "right": null,
            "top": null,
            "visibility": null,
            "width": null
          }
        },
        "44e8aa2ae01046bda0b799c0d2e3c8ab": {
          "model_module": "@jupyter-widgets/controls",
          "model_name": "ProgressStyleModel",
          "model_module_version": "1.5.0",
          "state": {
            "_model_module": "@jupyter-widgets/controls",
            "_model_module_version": "1.5.0",
            "_model_name": "ProgressStyleModel",
            "_view_count": null,
            "_view_module": "@jupyter-widgets/base",
            "_view_module_version": "1.2.0",
            "_view_name": "StyleView",
            "bar_color": null,
            "description_width": ""
          }
        },
        "1d3cab4775944ee0a547379ec033a3b0": {
          "model_module": "@jupyter-widgets/base",
          "model_name": "LayoutModel",
          "model_module_version": "1.2.0",
          "state": {
            "_model_module": "@jupyter-widgets/base",
            "_model_module_version": "1.2.0",
            "_model_name": "LayoutModel",
            "_view_count": null,
            "_view_module": "@jupyter-widgets/base",
            "_view_module_version": "1.2.0",
            "_view_name": "LayoutView",
            "align_content": null,
            "align_items": null,
            "align_self": null,
            "border": null,
            "bottom": null,
            "display": null,
            "flex": null,
            "flex_flow": null,
            "grid_area": null,
            "grid_auto_columns": null,
            "grid_auto_flow": null,
            "grid_auto_rows": null,
            "grid_column": null,
            "grid_gap": null,
            "grid_row": null,
            "grid_template_areas": null,
            "grid_template_columns": null,
            "grid_template_rows": null,
            "height": null,
            "justify_content": null,
            "justify_items": null,
            "left": null,
            "margin": null,
            "max_height": null,
            "max_width": null,
            "min_height": null,
            "min_width": null,
            "object_fit": null,
            "object_position": null,
            "order": null,
            "overflow": null,
            "overflow_x": null,
            "overflow_y": null,
            "padding": null,
            "right": null,
            "top": null,
            "visibility": null,
            "width": null
          }
        },
        "d81439e2ce4c470fa5a7831ff4e6f559": {
          "model_module": "@jupyter-widgets/controls",
          "model_name": "DescriptionStyleModel",
          "model_module_version": "1.5.0",
          "state": {
            "_model_module": "@jupyter-widgets/controls",
            "_model_module_version": "1.5.0",
            "_model_name": "DescriptionStyleModel",
            "_view_count": null,
            "_view_module": "@jupyter-widgets/base",
            "_view_module_version": "1.2.0",
            "_view_name": "StyleView",
            "description_width": ""
          }
        }
      }
    }
  },
  "nbformat": 4,
  "nbformat_minor": 0
}
